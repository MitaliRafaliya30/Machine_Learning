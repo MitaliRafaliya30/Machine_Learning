{
 "cells": [
  {
   "cell_type": "code",
   "execution_count": 33,
   "id": "0a14eb36",
   "metadata": {},
   "outputs": [],
   "source": [
    "import numpy as np\n",
    "import matplotlib.pyplot as plt"
   ]
  },
  {
   "cell_type": "code",
   "execution_count": null,
   "id": "0d24400e",
   "metadata": {},
   "outputs": [],
   "source": []
  },
  {
   "cell_type": "code",
   "execution_count": null,
   "id": "1816d1cf",
   "metadata": {},
   "outputs": [],
   "source": []
  },
  {
   "cell_type": "markdown",
   "id": "a8908c45",
   "metadata": {},
   "source": [
    "### A synthetic dataset is a dataset that is artificially generated rather than obtained by directly measuring or recording real-world phenomena. It is often used in scenarios where real-world data is unavailable, insufficient, or expensive to collect."
   ]
  },
  {
   "cell_type": "code",
   "execution_count": 34,
   "id": "c4c00a0d",
   "metadata": {},
   "outputs": [],
   "source": [
    "# generate some syntatioc data points for polynomial regression\n",
    "# for reproducibilty of the same result when u run it..."
   ]
  },
  {
   "cell_type": "code",
   "execution_count": 35,
   "id": "81b39072",
   "metadata": {},
   "outputs": [],
   "source": [
    "# it will fix the random state\n",
    "np.random.seed(1)\n",
    "\n",
    "\n",
    "\n",
    "# generate synthatic X\n",
    "# arg : 100 rows, 1 columns (diamentions)\n",
    "# multiple the array by 2\n",
    "X = 2*np.random.rand(100,1)"
   ]
  },
  {
   "cell_type": "code",
   "execution_count": 36,
   "id": "b60a4900",
   "metadata": {},
   "outputs": [
    {
     "data": {
      "text/plain": [
       "array([[8.34044009e-01],\n",
       "       [1.44064899e+00],\n",
       "       [2.28749635e-04],\n",
       "       [6.04665145e-01],\n",
       "       [2.93511782e-01],\n",
       "       [1.84677190e-01],\n",
       "       [3.72520423e-01],\n",
       "       [6.91121454e-01],\n",
       "       [7.93534948e-01],\n",
       "       [1.07763347e+00],\n",
       "       [8.38389029e-01],\n",
       "       [1.37043900e+00],\n",
       "       [4.08904499e-01],\n",
       "       [1.75623487e+00],\n",
       "       [5.47751864e-02],\n",
       "       [1.34093502e+00],\n",
       "       [8.34609605e-01],\n",
       "       [1.11737966e+00],\n",
       "       [2.80773877e-01],\n",
       "       [3.96202978e-01],\n",
       "       [1.60148914e+00],\n",
       "       [1.93652315e+00],\n",
       "       [6.26848356e-01],\n",
       "       [1.38464523e+00],\n",
       "       [1.75277830e+00],\n",
       "       [1.78921333e+00],\n",
       "       [1.70088423e-01],\n",
       "       [7.81095665e-02],\n",
       "       [3.39660839e-01],\n",
       "       [1.75628501e+00],\n",
       "       [1.96693668e-01],\n",
       "       [8.42215250e-01],\n",
       "       [1.91577906e+00],\n",
       "       [1.06633057e+00],\n",
       "       [1.38375423e+00],\n",
       "       [6.31031262e-01],\n",
       "       [1.37300186e+00],\n",
       "       [1.66925134e+00],\n",
       "       [3.65765547e-02],\n",
       "       [1.50028863e+00],\n",
       "       [1.97772218e+00],\n",
       "       [1.49633131e+00],\n",
       "       [5.60887984e-01],\n",
       "       [1.57855866e+00],\n",
       "       [2.06452013e-01],\n",
       "       [8.95787052e-01],\n",
       "       [1.81719101e+00],\n",
       "       [5.87228297e-01],\n",
       "       [5.75550677e-01],\n",
       "       [2.60057144e-01],\n",
       "       [3.87339157e-02],\n",
       "       [1.35767107e+00],\n",
       "       [4.23256232e-01],\n",
       "       [5.31093319e-01],\n",
       "       [9.83146319e-01],\n",
       "       [1.06725090e-01],\n",
       "       [1.14823521e+00],\n",
       "       [2.93457150e-01],\n",
       "       [1.17861107e+00],\n",
       "       [1.39951672e+00],\n",
       "       [2.04668858e-01],\n",
       "       [8.28111976e-01],\n",
       "       [1.38880032e+00],\n",
       "       [8.28358539e-01],\n",
       "       [9.99069179e-02],\n",
       "       [1.07179281e+00],\n",
       "       [1.32758929e+00],\n",
       "       [1.02977822e+00],\n",
       "       [1.88918951e+00],\n",
       "       [1.17311008e+00],\n",
       "       [1.80680383e+00],\n",
       "       [2.74949408e-01],\n",
       "       [2.78552695e-01],\n",
       "       [1.61478258e+00],\n",
       "       [7.95353674e-01],\n",
       "       [3.30708394e-01],\n",
       "       [1.85501716e+00],\n",
       "       [6.95531719e-01],\n",
       "       [1.50162421e+00],\n",
       "       [1.45199597e+00],\n",
       "       [1.76661218e+00],\n",
       "       [1.24734441e+00],\n",
       "       [1.50188487e+00],\n",
       "       [6.97796684e-01],\n",
       "       [5.39855784e-01],\n",
       "       [1.79177244e+00],\n",
       "       [8.56182380e-01],\n",
       "       [1.92968009e+00],\n",
       "       [1.32688300e+00],\n",
       "       [1.24339144e+00],\n",
       "       [2.29491946e-01],\n",
       "       [1.89897852e+00],\n",
       "       [8.99824267e-01],\n",
       "       [1.15677923e+00],\n",
       "       [8.16273606e-01],\n",
       "       [4.74053960e-01],\n",
       "       [1.80675904e+00],\n",
       "       [1.14735897e+00],\n",
       "       [5.74065406e-03],\n",
       "       [1.23428983e+00]])"
      ]
     },
     "execution_count": 36,
     "metadata": {},
     "output_type": "execute_result"
    }
   ],
   "source": [
    "X"
   ]
  },
  {
   "cell_type": "code",
   "execution_count": 37,
   "id": "1bb1da80",
   "metadata": {},
   "outputs": [],
   "source": [
    "# generate random synthetic y\n",
    "y = 4+3*X + 1.5*(X**2) + np.random.randn(100,1)  # Target with noise"
   ]
  },
  {
   "cell_type": "code",
   "execution_count": 38,
   "id": "04bbd001",
   "metadata": {},
   "outputs": [
    {
     "data": {
      "text/plain": [
       "array([[ 7.86121109],\n",
       "       [ 9.41295   ],\n",
       "       [ 3.69448231],\n",
       "       [ 7.19039999],\n",
       "       [ 5.23985383],\n",
       "       [ 5.36720125],\n",
       "       [ 5.10339032],\n",
       "       [ 6.58907959],\n",
       "       [ 7.51171281],\n",
       "       [ 9.38489289],\n",
       "       [ 7.76781105],\n",
       "       [11.04748023],\n",
       "       [ 4.80685555],\n",
       "       [14.2728098 ],\n",
       "       [ 4.29064731],\n",
       "       [11.84944906],\n",
       "       [ 8.74760648],\n",
       "       [ 9.41010133],\n",
       "       [ 4.58528764],\n",
       "       [ 4.78534373],\n",
       "       [13.07511295],\n",
       "       [15.5120924 ],\n",
       "       [ 6.12609969],\n",
       "       [11.07339618],\n",
       "       [13.24668175],\n",
       "       [14.86759851],\n",
       "       [ 4.10653181],\n",
       "       [ 5.46798806],\n",
       "       [ 5.59552839],\n",
       "       [14.48923908],\n",
       "       [ 3.55320176],\n",
       "       [ 7.76001797],\n",
       "       [15.99320774],\n",
       "       [ 7.95088243],\n",
       "       [10.75720782],\n",
       "       [ 6.52300901],\n",
       "       [ 9.57358939],\n",
       "       [13.5025135 ],\n",
       "       [ 4.95789708],\n",
       "       [11.01764891],\n",
       "       [16.15079003],\n",
       "       [10.53522159],\n",
       "       [ 6.11586144],\n",
       "       [10.85767477],\n",
       "       [ 5.8047074 ],\n",
       "       [ 8.29991336],\n",
       "       [14.38023079],\n",
       "       [ 5.50377888],\n",
       "       [ 7.49729583],\n",
       "       [ 6.84871776],\n",
       "       [ 2.26047036],\n",
       "       [12.07408331],\n",
       "       [ 7.16613821],\n",
       "       [ 6.35438182],\n",
       "       [ 7.20003595],\n",
       "       [ 5.20060596],\n",
       "       [ 9.24145148],\n",
       "       [ 4.40562647],\n",
       "       [ 8.38946118],\n",
       "       [11.68705823],\n",
       "       [ 5.46964745],\n",
       "       [ 6.88945936],\n",
       "       [11.58012676],\n",
       "       [ 6.37000103],\n",
       "       [ 5.11655387],\n",
       "       [ 8.98505548],\n",
       "       [10.43993809],\n",
       "       [ 8.57825359],\n",
       "       [15.89001021],\n",
       "       [10.33402278],\n",
       "       [14.84668694],\n",
       "       [ 5.0759452 ],\n",
       "       [ 5.02986662],\n",
       "       [13.37401215],\n",
       "       [ 7.56743678],\n",
       "       [ 5.83872865],\n",
       "       [14.41656771],\n",
       "       [ 4.37740395],\n",
       "       [12.92601011],\n",
       "       [13.70540601],\n",
       "       [14.4225789 ],\n",
       "       [ 9.97568014],\n",
       "       [11.7526971 ],\n",
       "       [ 6.70471618],\n",
       "       [ 6.07414316],\n",
       "       [13.06897128],\n",
       "       [ 7.15102508],\n",
       "       [14.37751135],\n",
       "       [10.87037587],\n",
       "       [ 9.75256658],\n",
       "       [ 5.26268699],\n",
       "       [14.93141151],\n",
       "       [ 8.90033356],\n",
       "       [ 9.69107886],\n",
       "       [ 9.63897444],\n",
       "       [ 3.86289169],\n",
       "       [13.66992778],\n",
       "       [10.31821273],\n",
       "       [ 6.5455971 ],\n",
       "       [ 9.73944177]])"
      ]
     },
     "execution_count": 38,
     "metadata": {},
     "output_type": "execute_result"
    }
   ],
   "source": [
    "y"
   ]
  },
  {
   "cell_type": "code",
   "execution_count": 39,
   "id": "7e8efbba",
   "metadata": {},
   "outputs": [
    {
     "data": {
      "image/png": "[encoded data removed]",
      "text/plain": [
       "<Figure size 640x480 with 1 Axes>"
      ]
     },
     "metadata": {},
     "output_type": "display_data"
    }
   ],
   "source": [
    "# visulize the data\n",
    "plt.scatter(X,y, color='blue',label=\"data points\")\n",
    "plt.xlabel(\"X\")\n",
    "plt.ylabel(\"y\")\n",
    "plt.title(\"Scatter plot for X and y\")\n",
    "plt.legend()\n",
    "plt.show()"
   ]
  },
  {
   "cell_type": "code",
   "execution_count": 40,
   "id": "5932af29",
   "metadata": {},
   "outputs": [],
   "source": [
    "# train-test split\n",
    "from sklearn.model_selection import train_test_split\n",
    "x_train, x_test, y_train, y_test = train_test_split(X,y, test_size=0.2, random_state=42)"
   ]
  },
  {
   "cell_type": "code",
   "execution_count": 41,
   "id": "9cd6a0ae",
   "metadata": {},
   "outputs": [
    {
     "data": {
      "text/plain": [
       "(80, 80)"
      ]
     },
     "execution_count": 41,
     "metadata": {},
     "output_type": "execute_result"
    }
   ],
   "source": [
    "len(x_train), len(y_train)"
   ]
  },
  {
   "cell_type": "code",
   "execution_count": 42,
   "id": "5df1457c",
   "metadata": {},
   "outputs": [
    {
     "data": {
      "text/plain": [
       "(20, 20)"
      ]
     },
     "execution_count": 42,
     "metadata": {},
     "output_type": "execute_result"
    }
   ],
   "source": [
    "len(x_test), len(y_test)"
   ]
  },
  {
   "cell_type": "code",
   "execution_count": null,
   "id": "77248390",
   "metadata": {},
   "outputs": [],
   "source": []
  },
  {
   "cell_type": "code",
   "execution_count": 43,
   "id": "72acf48d",
   "metadata": {},
   "outputs": [
    {
     "data": {
      "text/plain": [
       "array([[1.06725090e-01, 1.13902449e-02],\n",
       "       [1.32688300e+00, 1.76061848e+00],\n",
       "       [1.70088423e-01, 2.89300716e-02],\n",
       "       [5.60887984e-01, 3.14595331e-01],\n",
       "       [1.17311008e+00, 1.37618726e+00],\n",
       "       [1.34093502e+00, 1.79810673e+00],\n",
       "       [1.97772218e+00, 3.91138501e+00],\n",
       "       [1.80675904e+00, 3.26437823e+00],\n",
       "       [1.07763347e+00, 1.16129389e+00],\n",
       "       [2.78552695e-01, 7.75916036e-02],\n",
       "       [1.37043900e+00, 1.87810305e+00],\n",
       "       [5.87228297e-01, 3.44837073e-01],\n",
       "       [1.79177244e+00, 3.21044846e+00],\n",
       "       [3.39660839e-01, 1.15369486e-01],\n",
       "       [1.15677923e+00, 1.33813818e+00],\n",
       "       [1.84677190e-01, 3.41056643e-02],\n",
       "       [1.32758929e+00, 1.76249332e+00],\n",
       "       [1.07179281e+00, 1.14873983e+00],\n",
       "       [6.31031262e-01, 3.98200454e-01],\n",
       "       [8.34609605e-01, 6.96573192e-01],\n",
       "       [2.60057144e-01, 6.76297183e-02],\n",
       "       [1.38375423e+00, 1.91477576e+00],\n",
       "       [6.91121454e-01, 4.77648864e-01],\n",
       "       [4.74053960e-01, 2.24727157e-01],\n",
       "       [7.81095665e-02, 6.10110437e-03],\n",
       "       [3.96202978e-01, 1.56976800e-01],\n",
       "       [1.24734441e+00, 1.55586809e+00],\n",
       "       [1.78921333e+00, 3.20128433e+00],\n",
       "       [1.38880032e+00, 1.92876632e+00],\n",
       "       [1.75623487e+00, 3.08436093e+00],\n",
       "       [1.75277830e+00, 3.07223179e+00],\n",
       "       [6.04665145e-01, 3.65619938e-01],\n",
       "       [1.11737966e+00, 1.24853730e+00],\n",
       "       [3.65765547e-02, 1.33784435e-03],\n",
       "       [7.93534948e-01, 6.29697714e-01],\n",
       "       [1.50162421e+00, 2.25487526e+00],\n",
       "       [3.72520423e-01, 1.38771465e-01],\n",
       "       [9.99069179e-02, 9.98139224e-03],\n",
       "       [1.37300186e+00, 1.88513409e+00],\n",
       "       [1.24339144e+00, 1.54602227e+00],\n",
       "       [1.14823521e+00, 1.31844410e+00],\n",
       "       [1.23428983e+00, 1.52347138e+00],\n",
       "       [9.83146319e-01, 9.66576684e-01],\n",
       "       [1.57855866e+00, 2.49184743e+00],\n",
       "       [3.87339157e-02, 1.50031623e-03],\n",
       "       [1.02977822e+00, 1.06044319e+00],\n",
       "       [1.81719101e+00, 3.30218315e+00],\n",
       "       [1.88918951e+00, 3.56903701e+00],\n",
       "       [8.28111976e-01, 6.85769444e-01],\n",
       "       [1.14735897e+00, 1.31643261e+00],\n",
       "       [1.45199597e+00, 2.10829230e+00],\n",
       "       [1.49633131e+00, 2.23900739e+00],\n",
       "       [1.17861107e+00, 1.38912406e+00],\n",
       "       [5.75550677e-01, 3.31258582e-01],\n",
       "       [5.74065406e-03, 3.29551091e-05],\n",
       "       [2.93457150e-01, 8.61170988e-02],\n",
       "       [3.30708394e-01, 1.09368042e-01],\n",
       "       [1.91577906e+00, 3.67020941e+00],\n",
       "       [8.16273606e-01, 6.66302599e-01],\n",
       "       [1.39951672e+00, 1.95864705e+00],\n",
       "       [8.28358539e-01, 6.86177869e-01],\n",
       "       [5.39855784e-01, 2.91444267e-01],\n",
       "       [1.66925134e+00, 2.78640005e+00],\n",
       "       [1.75628501e+00, 3.08453703e+00],\n",
       "       [1.44064899e+00, 2.07546950e+00],\n",
       "       [4.23256232e-01, 1.79145838e-01],\n",
       "       [1.93652315e+00, 3.75012192e+00],\n",
       "       [2.28749635e-04, 5.23263954e-08],\n",
       "       [1.38464523e+00, 1.91724242e+00],\n",
       "       [1.92968009e+00, 3.72366527e+00],\n",
       "       [1.89897852e+00, 3.60611941e+00],\n",
       "       [7.95353674e-01, 6.32587467e-01],\n",
       "       [8.56182380e-01, 7.33048267e-01],\n",
       "       [1.50188487e+00, 2.25565816e+00],\n",
       "       [1.60148914e+00, 2.56476746e+00],\n",
       "       [2.04668858e-01, 4.18893413e-02],\n",
       "       [2.74949408e-01, 7.55971771e-02],\n",
       "       [5.47751864e-02, 3.00032104e-03],\n",
       "       [8.99824267e-01, 8.09683711e-01],\n",
       "       [1.35767107e+00, 1.84327072e+00]])"
      ]
     },
     "execution_count": 43,
     "metadata": {},
     "output_type": "execute_result"
    }
   ],
   "source": [
    "# prepare polynomial features degree = 2\n",
    "from sklearn.preprocessing import PolynomialFeatures\n",
    "\n",
    "#include_bias=False - means their should not have any assumptions in our data\n",
    "poly_features = PolynomialFeatures(degree=2,include_bias=False )\n",
    "\n",
    "x_poly_train = poly_features.fit_transform(x_train)\n",
    "x_poly_train"
   ]
  },
  {
   "cell_type": "code",
   "execution_count": null,
   "id": "e678d0d1",
   "metadata": {},
   "outputs": [],
   "source": []
  },
  {
   "cell_type": "code",
   "execution_count": 44,
   "id": "af6e21e2",
   "metadata": {},
   "outputs": [],
   "source": [
    "# provide polynomial features to linear regression model\n",
    "\n",
    "# Step 4: Train a linear regression model\n",
    "from sklearn.linear_model import LinearRegression\n",
    "poly_reg = LinearRegression()"
   ]
  },
  {
   "cell_type": "code",
   "execution_count": 45,
   "id": "6ad5f5a3",
   "metadata": {},
   "outputs": [
    {
     "data": {
      "text/html": [
       "<style>#sk-container-id-3 {color: black;background-color: white;}#sk-container-id-3 pre{padding: 0;}#sk-container-id-3 div.sk-toggleable {background-color: white;}#sk-container-id-3 label.sk-toggleable__label {cursor: pointer;display: block;width: 100%;margin-bottom: 0;padding: 0.3em;box-sizing: border-box;text-align: center;}#sk-container-id-3 label.sk-toggleable__label-arrow:before {content: \"▸\";float: left;margin-right: 0.25em;color: #696969;}#sk-container-id-3 label.sk-toggleable__label-arrow:hover:before {color: black;}#sk-container-id-3 div.sk-estimator:hover label.sk-toggleable__label-arrow:before {color: black;}#sk-container-id-3 div.sk-toggleable__content {max-height: 0;max-width: 0;overflow: hidden;text-align: left;background-color: #f0f8ff;}#sk-container-id-3 div.sk-toggleable__content pre {margin: 0.2em;color: black;border-radius: 0.25em;background-color: #f0f8ff;}#sk-container-id-3 input.sk-toggleable__control:checked~div.sk-toggleable__content {max-height: 200px;max-width: 100%;overflow: auto;}#sk-container-id-3 input.sk-toggleable__control:checked~label.sk-toggleable__label-arrow:before {content: \"▾\";}#sk-container-id-3 div.sk-estimator input.sk-toggleable__control:checked~label.sk-toggleable__label {background-color: #d4ebff;}#sk-container-id-3 div.sk-label input.sk-toggleable__control:checked~label.sk-toggleable__label {background-color: #d4ebff;}#sk-container-id-3 input.sk-hidden--visually {border: 0;clip: rect(1px 1px 1px 1px);clip: rect(1px, 1px, 1px, 1px);height: 1px;margin: -1px;overflow: hidden;padding: 0;position: absolute;width: 1px;}#sk-container-id-3 div.sk-estimator {font-family: monospace;background-color: #f0f8ff;border: 1px dotted black;border-radius: 0.25em;box-sizing: border-box;margin-bottom: 0.5em;}#sk-container-id-3 div.sk-estimator:hover {background-color: #d4ebff;}#sk-container-id-3 div.sk-parallel-item::after {content: \"\";width: 100%;border-bottom: 1px solid gray;flex-grow: 1;}#sk-container-id-3 div.sk-label:hover label.sk-toggleable__label {background-color: #d4ebff;}#sk-container-id-3 div.sk-serial::before {content: \"\";position: absolute;border-left: 1px solid gray;box-sizing: border-box;top: 0;bottom: 0;left: 50%;z-index: 0;}#sk-container-id-3 div.sk-serial {display: flex;flex-direction: column;align-items: center;background-color: white;padding-right: 0.2em;padding-left: 0.2em;position: relative;}#sk-container-id-3 div.sk-item {position: relative;z-index: 1;}#sk-container-id-3 div.sk-parallel {display: flex;align-items: stretch;justify-content: center;background-color: white;position: relative;}#sk-container-id-3 div.sk-item::before, #sk-container-id-3 div.sk-parallel-item::before {content: \"\";position: absolute;border-left: 1px solid gray;box-sizing: border-box;top: 0;bottom: 0;left: 50%;z-index: -1;}#sk-container-id-3 div.sk-parallel-item {display: flex;flex-direction: column;z-index: 1;position: relative;background-color: white;}#sk-container-id-3 div.sk-parallel-item:first-child::after {align-self: flex-end;width: 50%;}#sk-container-id-3 div.sk-parallel-item:last-child::after {align-self: flex-start;width: 50%;}#sk-container-id-3 div.sk-parallel-item:only-child::after {width: 0;}#sk-container-id-3 div.sk-dashed-wrapped {border: 1px dashed gray;margin: 0 0.4em 0.5em 0.4em;box-sizing: border-box;padding-bottom: 0.4em;background-color: white;}#sk-container-id-3 div.sk-label label {font-family: monospace;font-weight: bold;display: inline-block;line-height: 1.2em;}#sk-container-id-3 div.sk-label-container {text-align: center;}#sk-container-id-3 div.sk-container {/* jupyter's `normalize.less` sets `[hidden] { display: none; }` but bootstrap.min.css set `[hidden] { display: none !important; }` so we also need the `!important` here to be able to override the default hidden behavior on the sphinx rendered scikit-learn.org. See: https://github.com/scikit-learn/scikit-learn/issues/21755 */display: inline-block !important;position: relative;}#sk-container-id-3 div.sk-text-repr-fallback {display: none;}</style><div id=\"sk-container-id-3\" class=\"sk-top-container\"><div class=\"sk-text-repr-fallback\"><pre>LinearRegression()</pre><b>In a Jupyter environment, please rerun this cell to show the HTML representation or trust the notebook. <br />On GitHub, the HTML representation is unable to render, please try loading this page with nbviewer.org.</b></div><div class=\"sk-container\" hidden><div class=\"sk-item\"><div class=\"sk-estimator sk-toggleable\"><input class=\"sk-toggleable__control sk-hidden--visually\" id=\"sk-estimator-id-3\" type=\"checkbox\" checked><label for=\"sk-estimator-id-3\" class=\"sk-toggleable__label sk-toggleable__label-arrow\">LinearRegression</label><div class=\"sk-toggleable__content\"><pre>LinearRegression()</pre></div></div></div></div></div>"
      ],
      "text/plain": [
       "LinearRegression()"
      ]
     },
     "execution_count": 45,
     "metadata": {},
     "output_type": "execute_result"
    }
   ],
   "source": [
    "poly_reg"
   ]
  },
  {
   "cell_type": "code",
   "execution_count": 46,
   "id": "342b7c03",
   "metadata": {},
   "outputs": [
    {
     "data": {
      "text/html": [
       "<style>#sk-container-id-4 {color: black;background-color: white;}#sk-container-id-4 pre{padding: 0;}#sk-container-id-4 div.sk-toggleable {background-color: white;}#sk-container-id-4 label.sk-toggleable__label {cursor: pointer;display: block;width: 100%;margin-bottom: 0;padding: 0.3em;box-sizing: border-box;text-align: center;}#sk-container-id-4 label.sk-toggleable__label-arrow:before {content: \"▸\";float: left;margin-right: 0.25em;color: #696969;}#sk-container-id-4 label.sk-toggleable__label-arrow:hover:before {color: black;}#sk-container-id-4 div.sk-estimator:hover label.sk-toggleable__label-arrow:before {color: black;}#sk-container-id-4 div.sk-toggleable__content {max-height: 0;max-width: 0;overflow: hidden;text-align: left;background-color: #f0f8ff;}#sk-container-id-4 div.sk-toggleable__content pre {margin: 0.2em;color: black;border-radius: 0.25em;background-color: #f0f8ff;}#sk-container-id-4 input.sk-toggleable__control:checked~div.sk-toggleable__content {max-height: 200px;max-width: 100%;overflow: auto;}#sk-container-id-4 input.sk-toggleable__control:checked~label.sk-toggleable__label-arrow:before {content: \"▾\";}#sk-container-id-4 div.sk-estimator input.sk-toggleable__control:checked~label.sk-toggleable__label {background-color: #d4ebff;}#sk-container-id-4 div.sk-label input.sk-toggleable__control:checked~label.sk-toggleable__label {background-color: #d4ebff;}#sk-container-id-4 input.sk-hidden--visually {border: 0;clip: rect(1px 1px 1px 1px);clip: rect(1px, 1px, 1px, 1px);height: 1px;margin: -1px;overflow: hidden;padding: 0;position: absolute;width: 1px;}#sk-container-id-4 div.sk-estimator {font-family: monospace;background-color: #f0f8ff;border: 1px dotted black;border-radius: 0.25em;box-sizing: border-box;margin-bottom: 0.5em;}#sk-container-id-4 div.sk-estimator:hover {background-color: #d4ebff;}#sk-container-id-4 div.sk-parallel-item::after {content: \"\";width: 100%;border-bottom: 1px solid gray;flex-grow: 1;}#sk-container-id-4 div.sk-label:hover label.sk-toggleable__label {background-color: #d4ebff;}#sk-container-id-4 div.sk-serial::before {content: \"\";position: absolute;border-left: 1px solid gray;box-sizing: border-box;top: 0;bottom: 0;left: 50%;z-index: 0;}#sk-container-id-4 div.sk-serial {display: flex;flex-direction: column;align-items: center;background-color: white;padding-right: 0.2em;padding-left: 0.2em;position: relative;}#sk-container-id-4 div.sk-item {position: relative;z-index: 1;}#sk-container-id-4 div.sk-parallel {display: flex;align-items: stretch;justify-content: center;background-color: white;position: relative;}#sk-container-id-4 div.sk-item::before, #sk-container-id-4 div.sk-parallel-item::before {content: \"\";position: absolute;border-left: 1px solid gray;box-sizing: border-box;top: 0;bottom: 0;left: 50%;z-index: -1;}#sk-container-id-4 div.sk-parallel-item {display: flex;flex-direction: column;z-index: 1;position: relative;background-color: white;}#sk-container-id-4 div.sk-parallel-item:first-child::after {align-self: flex-end;width: 50%;}#sk-container-id-4 div.sk-parallel-item:last-child::after {align-self: flex-start;width: 50%;}#sk-container-id-4 div.sk-parallel-item:only-child::after {width: 0;}#sk-container-id-4 div.sk-dashed-wrapped {border: 1px dashed gray;margin: 0 0.4em 0.5em 0.4em;box-sizing: border-box;padding-bottom: 0.4em;background-color: white;}#sk-container-id-4 div.sk-label label {font-family: monospace;font-weight: bold;display: inline-block;line-height: 1.2em;}#sk-container-id-4 div.sk-label-container {text-align: center;}#sk-container-id-4 div.sk-container {/* jupyter's `normalize.less` sets `[hidden] { display: none; }` but bootstrap.min.css set `[hidden] { display: none !important; }` so we also need the `!important` here to be able to override the default hidden behavior on the sphinx rendered scikit-learn.org. See: https://github.com/scikit-learn/scikit-learn/issues/21755 */display: inline-block !important;position: relative;}#sk-container-id-4 div.sk-text-repr-fallback {display: none;}</style><div id=\"sk-container-id-4\" class=\"sk-top-container\"><div class=\"sk-text-repr-fallback\"><pre>LinearRegression()</pre><b>In a Jupyter environment, please rerun this cell to show the HTML representation or trust the notebook. <br />On GitHub, the HTML representation is unable to render, please try loading this page with nbviewer.org.</b></div><div class=\"sk-container\" hidden><div class=\"sk-item\"><div class=\"sk-estimator sk-toggleable\"><input class=\"sk-toggleable__control sk-hidden--visually\" id=\"sk-estimator-id-4\" type=\"checkbox\" checked><label for=\"sk-estimator-id-4\" class=\"sk-toggleable__label sk-toggleable__label-arrow\">LinearRegression</label><div class=\"sk-toggleable__content\"><pre>LinearRegression()</pre></div></div></div></div></div>"
      ],
      "text/plain": [
       "LinearRegression()"
      ]
     },
     "execution_count": 46,
     "metadata": {},
     "output_type": "execute_result"
    }
   ],
   "source": [
    "poly_reg.fit(x_poly_train,y_train)"
   ]
  },
  {
   "cell_type": "code",
   "execution_count": 47,
   "id": "2d7f5ad1",
   "metadata": {},
   "outputs": [
    {
     "data": {
      "text/plain": [
       "array([[2.33915935, 1.71782948]])"
      ]
     },
     "execution_count": 47,
     "metadata": {},
     "output_type": "execute_result"
    }
   ],
   "source": [
    "poly_reg.coef_"
   ]
  },
  {
   "cell_type": "code",
   "execution_count": 48,
   "id": "cf6bea64",
   "metadata": {},
   "outputs": [
    {
     "data": {
      "text/plain": [
       "array([4.49951103])"
      ]
     },
     "execution_count": 48,
     "metadata": {},
     "output_type": "execute_result"
    }
   ],
   "source": [
    "poly_reg.intercept_"
   ]
  },
  {
   "cell_type": "code",
   "execution_count": 49,
   "id": "a01ff254",
   "metadata": {},
   "outputs": [],
   "source": [
    "#make prediction of train data for evaluation matrix\n",
    "y_poly_predict = poly_reg.predict(x_poly_train)"
   ]
  },
  {
   "cell_type": "code",
   "execution_count": 50,
   "id": "409cba91",
   "metadata": {},
   "outputs": [
    {
     "data": {
      "text/plain": [
       "array([[ 4.76872453],\n",
       "       [10.62774414],\n",
       "       [ 4.94707189],\n",
       "       [ 6.35193854],\n",
       "       [ 9.6076575 ],\n",
       "       [10.72501248],\n",
       "       [15.84481085],\n",
       "       [14.33345351],\n",
       "       [ 9.01517232],\n",
       "       [ 5.28437932],\n",
       "       [10.93144704],\n",
       "       [ 6.46550289],\n",
       "       [14.20575531],\n",
       "       [ 5.49221697],\n",
       "       [ 9.50409521],\n",
       "       [ 4.99008813],\n",
       "       [10.63261693],\n",
       "       [ 8.97994436],\n",
       "       [ 6.65963419],\n",
       "       [ 7.64838986],\n",
       "       [ 5.22400246],\n",
       "       [11.02559093],\n",
       "       [ 6.93667355],\n",
       "       [ 5.99444173],\n",
       "       [ 4.69270241],\n",
       "       [ 5.69595231],\n",
       "       [10.08996446],\n",
       "       [14.18402672],\n",
       "       [11.06142792],\n",
       "       [13.9060304 ],\n",
       "       [13.87710913],\n",
       "       [ 6.54199187],\n",
       "       [ 9.25801429],\n",
       "       [ 4.58736761],\n",
       "       [ 7.43742903],\n",
       "       [11.88554053],\n",
       "       [ 5.60928138],\n",
       "       [ 4.75035557],\n",
       "       [10.94952009],\n",
       "       [10.06380439],\n",
       "       [ 9.45027831],\n",
       "       [10.00377567],\n",
       "       [ 8.45966086],\n",
       "       [12.47258026],\n",
       "       [ 4.59269312],\n",
       "       [ 8.72998697],\n",
       "       [14.42279794],\n",
       "       [15.04962335],\n",
       "       [ 7.61463188],\n",
       "       [ 9.44477326],\n",
       "       [11.51764766],\n",
       "       [11.84590131],\n",
       "       [ 9.64274842],\n",
       "       [ 6.41486154],\n",
       "       [ 4.51299595],\n",
       "       [ 5.33388856],\n",
       "       [ 5.46096631],\n",
       "       [15.28561746],\n",
       "       [ 7.55349932],\n",
       "       [11.1378253 ],\n",
       "       [ 7.61591023],\n",
       "       [ 6.26297129],\n",
       "       [13.19071608],\n",
       "       [13.90645017],\n",
       "       [11.43472129],\n",
       "       [ 5.79731681],\n",
       "       [15.47141726],\n",
       "       [ 4.50004621],\n",
       "       [11.03191242],\n",
       "       [15.40996225],\n",
       "       [15.13622263],\n",
       "       [ 7.44664742],\n",
       "       [ 7.76150998],\n",
       "       [11.88749515],\n",
       "       [12.65148248],\n",
       "       [ 5.05022285],\n",
       "       [ 5.27252457],\n",
       "       [ 4.63279296],\n",
       "       [ 7.99524193],\n",
       "       [10.8417448 ]])"
      ]
     },
     "execution_count": 50,
     "metadata": {},
     "output_type": "execute_result"
    }
   ],
   "source": [
    "y_poly_predict"
   ]
  },
  {
   "cell_type": "code",
   "execution_count": 58,
   "id": "e5aa4af8",
   "metadata": {},
   "outputs": [
    {
     "data": {
      "text/plain": [
       "0.9339314690009314"
      ]
     },
     "execution_count": 58,
     "metadata": {},
     "output_type": "execute_result"
    }
   ],
   "source": [
    "from sklearn.metrics import r2_score\n",
    "\n",
    "r2_score(y_train,y_poly_predict)"
   ]
  },
  {
   "cell_type": "code",
   "execution_count": 59,
   "id": "3eeb992d",
   "metadata": {},
   "outputs": [],
   "source": [
    "from sklearn.metrics import mean_squared_error"
   ]
  },
  {
   "cell_type": "code",
   "execution_count": 60,
   "id": "a1376ce4",
   "metadata": {},
   "outputs": [
    {
     "data": {
      "text/plain": [
       "0.8207003507057354"
      ]
     },
     "execution_count": 60,
     "metadata": {},
     "output_type": "execute_result"
    }
   ],
   "source": [
    "mean_squared_error(y_train,y_poly_predict)"
   ]
  },
  {
   "cell_type": "code",
   "execution_count": 61,
   "id": "17a0acb2",
   "metadata": {},
   "outputs": [],
   "source": [
    "# visulize the curve (result):"
   ]
  },
  {
   "cell_type": "code",
   "execution_count": 62,
   "id": "bf96f7d1",
   "metadata": {},
   "outputs": [
    {
     "data": {
      "image/png": "[encoded data removed]",
      "text/plain": [
       "<Figure size 640x480 with 1 Axes>"
      ]
     },
     "metadata": {},
     "output_type": "display_data"
    }
   ],
   "source": [
    "degree = 2\n",
    "plt.scatter(x_train,y_train,label='training data')\n",
    "X_range = np.linspace(0, 2, 100).reshape(-1, 1)\n",
    "X_range_poly = poly_features.transform(X_range)\n",
    "plt.plot(X_range, poly_reg.predict(X_range_poly), color='red', label=f'Polynomial Regression (Degree {degree})')\n",
    "plt.xlabel('X')\n",
    "plt.ylabel('y')\n",
    "plt.title('Polynomial Regression')\n",
    "plt.legend()\n",
    "plt.show()"
   ]
  },
  {
   "cell_type": "code",
   "execution_count": null,
   "id": "8f661bc9",
   "metadata": {},
   "outputs": [],
   "source": []
  },
  {
   "cell_type": "code",
   "execution_count": null,
   "id": "18ec9972",
   "metadata": {},
   "outputs": [],
   "source": []
  },
  {
   "cell_type": "code",
   "execution_count": null,
   "id": "c3f3ddc9",
   "metadata": {},
   "outputs": [],
   "source": []
  },
  {
   "cell_type": "code",
   "execution_count": null,
   "id": "b3d40efa",
   "metadata": {},
   "outputs": [],
   "source": []
  },
  {
   "cell_type": "code",
   "execution_count": null,
   "id": "ff1ce482",
   "metadata": {},
   "outputs": [],
   "source": []
  },
  {
   "cell_type": "code",
   "execution_count": null,
   "id": "47aa7363",
   "metadata": {},
   "outputs": [],
   "source": []
  },
  {
   "cell_type": "code",
   "execution_count": null,
   "id": "e14586c1",
   "metadata": {},
   "outputs": [],
   "source": []
  },
  {
   "cell_type": "code",
   "execution_count": null,
   "id": "e7725bff",
   "metadata": {},
   "outputs": [],
   "source": []
  },
  {
   "cell_type": "code",
   "execution_count": null,
   "id": "b1ace556",
   "metadata": {},
   "outputs": [],
   "source": []
  },
  {
   "cell_type": "code",
   "execution_count": null,
   "id": "964f6e5e",
   "metadata": {},
   "outputs": [],
   "source": []
  },
  {
   "cell_type": "code",
   "execution_count": null,
   "id": "cbb6ad03",
   "metadata": {},
   "outputs": [],
   "source": []
  }
 ],
 "metadata": {
  "kernelspec": {
   "display_name": "Python 3 (ipykernel)",
   "language": "python",
   "name": "python3"
  },
  "language_info": {
   "codemirror_mode": {
    "name": "ipython",
    "version": 3
   },
   "file_extension": ".py",
   "mimetype": "text/x-python",
   "name": "python",
   "nbconvert_exporter": "python",
   "pygments_lexer": "ipython3",
   "version": "3.10.9"
  }
 },
 "nbformat": 4,
 "nbformat_minor": 5
}
